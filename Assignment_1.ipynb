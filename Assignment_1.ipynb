{
  "nbformat": 4,
  "nbformat_minor": 0,
  "metadata": {
    "colab": {
      "provenance": []
    },
    "kernelspec": {
      "name": "python3",
      "display_name": "Python 3"
    },
    "language_info": {
      "name": "python"
    }
  },
  "cells": [
    {
      "cell_type": "markdown",
      "source": [
        "### ***Task -1***\n",
        " create a pandas dataframe (DataFrame name os 'df') with numpy random values (4 features and 4 observation)"
      ],
      "metadata": {
        "id": "NonK_OeHqD9U"
      }
    },
    {
      "cell_type": "code",
      "execution_count": 1,
      "metadata": {
        "id": "D8znQVXPtLLC",
        "colab": {
          "base_uri": "https://localhost:8080/"
        },
        "outputId": "4b14d928-06ac-48c9-bfd2-23c6ab2eef41"
      },
      "outputs": [
        {
          "output_type": "stream",
          "name": "stdout",
          "text": [
            "   Feature1  Feature2  Feature3  Feature4\n",
            "0  0.374540  0.950714  0.731994  0.598658\n",
            "1  0.156019  0.155995  0.058084  0.866176\n",
            "2  0.601115  0.708073  0.020584  0.969910\n",
            "3  0.832443  0.212339  0.181825  0.183405\n"
          ]
        }
      ],
      "source": [
        "import pandas as pd\n",
        "import numpy as np\n",
        "\n",
        "# Set random seed for reproducibility\n",
        "np.random.seed(42)\n",
        "\n",
        "# Create random data\n",
        "data = np.random.rand(4, 4)\n",
        "\n",
        "# Create a DataFrame\n",
        "df = pd.DataFrame(data, columns=['Feature1', 'Feature2', 'Feature3', 'Feature4'])\n",
        "\n",
        "print(df)"
      ]
    },
    {
      "cell_type": "markdown",
      "source": [
        "# ***Task -2***\n",
        "Rename the task - 1 'df dataframe column names to 'Random value 1', 'Random value 2', 'Random value 3' & 'Random value 4'"
      ],
      "metadata": {
        "id": "ari2r-K3qQd3"
      }
    },
    {
      "cell_type": "code",
      "source": [
        "import pandas as pd\n",
        "import numpy as np\n",
        "\n",
        "# Create random values\n",
        "np.random.seed(42)\n",
        "data = np.random.rand(4, 4)\n",
        "\n",
        "# Create DataFrame with original column names\n",
        "df = pd.DataFrame(data, columns=['Feature1', 'Feature2', 'Feature3', 'Feature4'])\n",
        "\n",
        "# Rename columns\n",
        "new_column_names = {\n",
        "    'Feature1': 'Random value 1',\n",
        "    'Feature2': 'Random value 2',\n",
        "    'Feature3': 'Random value 3',\n",
        "    'Feature4': 'Random value 4'\n",
        "}\n",
        "df.rename(columns=new_column_names, inplace=True)\n",
        "\n",
        "print(df)"
      ],
      "metadata": {
        "colab": {
          "base_uri": "https://localhost:8080/"
        },
        "id": "oSREDfISmBO6",
        "outputId": "43cb2c1f-57b3-4873-813a-98e0e3821b1c"
      },
      "execution_count": 2,
      "outputs": [
        {
          "output_type": "stream",
          "name": "stdout",
          "text": [
            "   Random value 1  Random value 2  Random value 3  Random value 4\n",
            "0        0.374540        0.950714        0.731994        0.598658\n",
            "1        0.156019        0.155995        0.058084        0.866176\n",
            "2        0.601115        0.708073        0.020584        0.969910\n",
            "3        0.832443        0.212339        0.181825        0.183405\n"
          ]
        }
      ]
    },
    {
      "cell_type": "markdown",
      "source": [
        "# ***Task -3***\n",
        "Find the descriptive statistics of the 'df' dataframe."
      ],
      "metadata": {
        "id": "BekgKalLrNG0"
      }
    },
    {
      "cell_type": "code",
      "source": [
        "import pandas as pd\n",
        "import numpy as np\n",
        "\n",
        "# Create random values\n",
        "np.random.seed(42)\n",
        "data = np.random.rand(4, 4)\n",
        "\n",
        "# Create DataFrame with original column names\n",
        "df = pd.DataFrame(data, columns=['Feature1', 'Feature2', 'Feature3', 'Feature4'])\n",
        "\n",
        "# Rename columns\n",
        "new_column_names = {\n",
        "    'Feature1': 'Random value 1',\n",
        "    'Feature2': 'Random value 2',\n",
        "    'Feature3': 'Random value 3',\n",
        "    'Feature4': 'Random value 4'\n",
        "}\n",
        "df.rename(columns=new_column_names, inplace=True)\n",
        "\n",
        "# Calculate descriptive statistics\n",
        "descriptive_stats = df.describe()\n",
        "\n",
        "print(descriptive_stats)\n"
      ],
      "metadata": {
        "colab": {
          "base_uri": "https://localhost:8080/"
        },
        "id": "49sirGgWpP6D",
        "outputId": "b29eab4a-508c-4711-fbed-0d838c13101a"
      },
      "execution_count": 3,
      "outputs": [
        {
          "output_type": "stream",
          "name": "stdout",
          "text": [
            "       Random value 1  Random value 2  Random value 3  Random value 4\n",
            "count        4.000000        4.000000        4.000000        4.000000\n",
            "mean         0.491029        0.506780        0.248122        0.654537\n",
            "std          0.291252        0.386153        0.329856        0.350875\n",
            "min          0.156019        0.155995        0.020584        0.183405\n",
            "25%          0.319910        0.198253        0.048709        0.494845\n",
            "50%          0.487828        0.460206        0.119954        0.732417\n",
            "75%          0.658947        0.768733        0.319367        0.892110\n",
            "max          0.832443        0.950714        0.731994        0.969910\n"
          ]
        }
      ]
    },
    {
      "cell_type": "markdown",
      "source": [
        "# ***Task -4***\n",
        "check for the null values in 'df' and find the data type of the colums"
      ],
      "metadata": {
        "id": "UZBDdDamrXCk"
      }
    },
    {
      "cell_type": "code",
      "source": [
        "import pandas as pd\n",
        "import numpy as np\n",
        "\n",
        "# Create random values\n",
        "np.random.seed(42)\n",
        "data = np.random.rand(4, 4)\n",
        "\n",
        "# Create DataFrame with original column names\n",
        "df = pd.DataFrame(data, columns=['Feature1', 'Feature2', 'Feature3', 'Feature4'])\n",
        "\n",
        "# Rename columns\n",
        "new_column_names = {\n",
        "    'Feature1': 'Random value 1',\n",
        "    'Feature2': 'Random value 2',\n",
        "    'Feature3': 'Random value 3',\n",
        "    'Feature4': 'Random value 4'\n",
        "}\n",
        "df.rename(columns=new_column_names, inplace=True)\n",
        "\n",
        "# Check for null values\n",
        "null_values = df.isnull().sum()\n",
        "\n",
        "# Find data types of columns\n",
        "data_types = df.dtypes\n",
        "\n",
        "print(\"Null values:\")\n",
        "print(null_values)\n",
        "print(\"\\nData types:\")\n",
        "print(data_types)\n"
      ],
      "metadata": {
        "colab": {
          "base_uri": "https://localhost:8080/"
        },
        "id": "4ULfv08vpc8w",
        "outputId": "9ed8792c-d33d-4b92-e327-5f176069390e"
      },
      "execution_count": 4,
      "outputs": [
        {
          "output_type": "stream",
          "name": "stdout",
          "text": [
            "Null values:\n",
            "Random value 1    0\n",
            "Random value 2    0\n",
            "Random value 3    0\n",
            "Random value 4    0\n",
            "dtype: int64\n",
            "\n",
            "Data types:\n",
            "Random value 1    float64\n",
            "Random value 2    float64\n",
            "Random value 3    float64\n",
            "Random value 4    float64\n",
            "dtype: object\n"
          ]
        }
      ]
    },
    {
      "cell_type": "markdown",
      "source": [
        "# ***Task -5***\n",
        "Display the 'Random value 2' & 'Random value 3' columns with location method and index location method"
      ],
      "metadata": {
        "id": "etHkt5IXraxT"
      }
    },
    {
      "cell_type": "code",
      "source": [
        "import pandas as pd\n",
        "import numpy as np\n",
        "\n",
        "# Create random values\n",
        "np.random.seed(42)\n",
        "data = np.random.rand(4, 4)\n",
        "\n",
        "# Create DataFrame with original column names\n",
        "df = pd.DataFrame(data, columns=['Feature1', 'Feature2', 'Feature3', 'Feature4'])\n",
        "\n",
        "# Rename columns\n",
        "new_column_names = {\n",
        "    'Feature1': 'Random value 1',\n",
        "    'Feature2': 'Random value 2',\n",
        "    'Feature3': 'Random value 3',\n",
        "    'Feature4': 'Random value 4'\n",
        "}\n",
        "df.rename(columns=new_column_names, inplace=True)\n",
        "\n",
        "# Display columns using loc method\n",
        "columns_loc = df.loc[:, ['Random value 2', 'Random value 3']]\n",
        "\n",
        "# Display columns using iloc method\n",
        "columns_iloc = df.iloc[:, [1, 2]]\n",
        "\n",
        "print(\"Using loc method:\")\n",
        "print(columns_loc)\n",
        "print(\"\\nUsing iloc method:\")\n",
        "print(columns_iloc)\n"
      ],
      "metadata": {
        "colab": {
          "base_uri": "https://localhost:8080/"
        },
        "id": "IkDG5RyFpolW",
        "outputId": "da9f7d85-003b-439e-ac11-11a85ae08eea"
      },
      "execution_count": 5,
      "outputs": [
        {
          "output_type": "stream",
          "name": "stdout",
          "text": [
            "Using loc method:\n",
            "   Random value 2  Random value 3\n",
            "0        0.950714        0.731994\n",
            "1        0.155995        0.058084\n",
            "2        0.708073        0.020584\n",
            "3        0.212339        0.181825\n",
            "\n",
            "Using iloc method:\n",
            "   Random value 2  Random value 3\n",
            "0        0.950714        0.731994\n",
            "1        0.155995        0.058084\n",
            "2        0.708073        0.020584\n",
            "3        0.212339        0.181825\n"
          ]
        }
      ]
    },
    {
      "cell_type": "code",
      "source": [],
      "metadata": {
        "id": "Dy9T6ufFp_ql"
      },
      "execution_count": null,
      "outputs": []
    }
  ]
}